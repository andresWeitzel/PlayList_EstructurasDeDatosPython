{
 "cells": [
  {
   "cell_type": "code",
   "execution_count": 1,
   "id": "22bb2dc9",
   "metadata": {},
   "outputs": [
    {
     "data": {
      "text/plain": [
       "array('d', [12.34, 23.34, 4.34, 5.34, 567.54, 23.54, 45.545, 67.343, 78.545, 78.53, 12.2])"
      ]
     },
     "execution_count": 1,
     "metadata": {},
     "output_type": "execute_result"
    }
   ],
   "source": [
    "'''\n",
    "Crear 2 Funciones, la primera que elimine un elemento segun el indice indicado y la segunda\n",
    "que elimine tal elemento por su valor.\n",
    "Mostrar los elementos del array cada vez que invoca las funciones \n",
    "\n",
    "'''\n",
    "\n",
    "import array as array\n",
    "\n",
    "\n",
    "array01 = array.array('d', [12.34,23.34,4.34,5.34,567.54,23.54,45.545,67.343,78.545,78.53,12.2])\n",
    "\n",
    "array01"
   ]
  },
  {
   "cell_type": "code",
   "execution_count": 4,
   "id": "ec1fde59",
   "metadata": {},
   "outputs": [],
   "source": [
    "def eliminarElementoPorPosicion(inputIndiceElemento, inputArray):\n",
    "    \n",
    "    inputArray.pop(inputIndiceElemento)\n",
    "    \n",
    "    for i in range(len(inputArray)):\n",
    "        print(inputArray[i])\n",
    "    \n",
    "    print(\"\\n--------------------------\")\n",
    "    \n",
    "    print(\"El Elemento Eliminado se encontraba en la posicion\"\n",
    "          ,inputIndiceElemento)  \n",
    "     \n",
    "    print(\"\\n--------------------------\")"
   ]
  },
  {
   "cell_type": "code",
   "execution_count": 5,
   "id": "9003221c",
   "metadata": {},
   "outputs": [
    {
     "name": "stdout",
     "output_type": "stream",
     "text": [
      "4.34\n",
      "5.34\n",
      "567.54\n",
      "23.54\n",
      "45.545\n",
      "67.343\n",
      "78.545\n",
      "78.53\n",
      "12.2\n",
      "\n",
      "--------------------------\n",
      "El Elemento Eliminado se encontraba en la posicion 0\n",
      "\n",
      "--------------------------\n"
     ]
    }
   ],
   "source": [
    "eliminarElementoPorPosicion(0, array01)"
   ]
  },
  {
   "cell_type": "code",
   "execution_count": 6,
   "id": "53742544",
   "metadata": {},
   "outputs": [],
   "source": [
    "def eliminarElemento(inputElemento, inputArray):\n",
    "    \n",
    "    inputArray.remove(inputElemento)\n",
    "    \n",
    "    for i in range(len(inputArray)):\n",
    "        print(inputArray[i])\n",
    "    \n",
    "    print(\"\\n--------------------------\")\n",
    "    \n",
    "    print(\"El Elemento Eliminado fue el\"\n",
    "          ,inputElemento)  \n",
    "     \n",
    "    print(\"\\n--------------------------\")"
   ]
  },
  {
   "cell_type": "code",
   "execution_count": 7,
   "id": "3971aaa6",
   "metadata": {},
   "outputs": [
    {
     "name": "stdout",
     "output_type": "stream",
     "text": [
      "5.34\n",
      "567.54\n",
      "23.54\n",
      "45.545\n",
      "67.343\n",
      "78.545\n",
      "78.53\n",
      "12.2\n",
      "\n",
      "--------------------------\n",
      "El Elemento Eliminado fue el 4.34\n",
      "\n",
      "--------------------------\n"
     ]
    }
   ],
   "source": [
    "eliminarElemento(4.34, array01)"
   ]
  },
  {
   "cell_type": "code",
   "execution_count": null,
   "id": "22b3100d",
   "metadata": {},
   "outputs": [],
   "source": []
  }
 ],
 "metadata": {
  "kernelspec": {
   "display_name": "Python 3",
   "language": "python",
   "name": "python3"
  },
  "language_info": {
   "codemirror_mode": {
    "name": "ipython",
    "version": 3
   },
   "file_extension": ".py",
   "mimetype": "text/x-python",
   "name": "python",
   "nbconvert_exporter": "python",
   "pygments_lexer": "ipython3",
   "version": "3.8.3"
  }
 },
 "nbformat": 4,
 "nbformat_minor": 5
}
