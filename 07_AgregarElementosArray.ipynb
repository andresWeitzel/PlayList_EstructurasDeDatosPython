{
 "cells": [
  {
   "cell_type": "code",
   "execution_count": 1,
   "id": "40d9eab8",
   "metadata": {},
   "outputs": [
    {
     "data": {
      "text/plain": [
       "array('d', [12.34, 23.34, 4.34, 5.34, 567.54, 23.54, 45.545, 67.343, 78.545, 78.53, 12.2])"
      ]
     },
     "execution_count": 1,
     "metadata": {},
     "output_type": "execute_result"
    }
   ],
   "source": [
    "'''\n",
    "Crear una funcion que añada elementos a un array por orden natural y otra\n",
    "desde la posicion o indice deseado y nos muestre solo los elementos del\n",
    "array.\n",
    "Indicar a traves de un mensaje la insercion\n",
    "'''\n",
    "\n",
    "import array as array\n",
    "\n",
    "\n",
    "array01 = array.array('d', [12.34,23.34,4.34,5.34,567.54,23.54,45.545,67.343,78.545,78.53,12.2])\n",
    "\n",
    "array01"
   ]
  },
  {
   "cell_type": "code",
   "execution_count": 5,
   "id": "7c957f76",
   "metadata": {},
   "outputs": [],
   "source": [
    "\n",
    "def agregarElemento(inputElemento,inputArray):\n",
    "    \n",
    "    inputArray.append(inputElemento)\n",
    "    \n",
    "    for i in range(len(inputArray)):\n",
    "        \n",
    "        print(inputArray[i])\n",
    "    \n",
    "    \n",
    "    print(\"El elemento\",inputElemento,\"ha sido agregado de forma Correcta!!\")\n",
    "        \n",
    "        "
   ]
  },
  {
   "cell_type": "code",
   "execution_count": 7,
   "id": "8ff50df1",
   "metadata": {},
   "outputs": [
    {
     "name": "stdout",
     "output_type": "stream",
     "text": [
      "12.34\n",
      "23.34\n",
      "4.34\n",
      "5.34\n",
      "567.54\n",
      "23.54\n",
      "45.545\n",
      "67.343\n",
      "78.545\n",
      "78.53\n",
      "12.2\n",
      "234.234\n",
      "234.234\n",
      "748383.8343\n",
      "El elemento 748383.8343 ha sido agregado de forma Correcta!!\n"
     ]
    }
   ],
   "source": [
    "agregarElemento(748383.8343, array01)"
   ]
  },
  {
   "cell_type": "code",
   "execution_count": null,
   "id": "53149d85",
   "metadata": {},
   "outputs": [],
   "source": []
  },
  {
   "cell_type": "code",
   "execution_count": null,
   "id": "27f82059",
   "metadata": {},
   "outputs": [],
   "source": []
  },
  {
   "cell_type": "code",
   "execution_count": 11,
   "id": "88f4b807",
   "metadata": {},
   "outputs": [],
   "source": [
    "def agregarElementoPorPosicion(inputElemento, indiceInputArray, inputArray):\n",
    "    \n",
    "    #.insert(indice, valorElemento)\n",
    "    inputArray.insert(indiceInputArray,inputElemento)\n",
    "    \n",
    "    for i in range(len(inputArray)):\n",
    "        \n",
    "        print(inputArray[i])\n",
    "    \n",
    "    \n",
    "    print(\"El elemento\",inputElemento,\"ha sido agregado de forma Correcta!!\")\n",
    "        "
   ]
  },
  {
   "cell_type": "code",
   "execution_count": 14,
   "id": "8132f561",
   "metadata": {},
   "outputs": [
    {
     "name": "stdout",
     "output_type": "stream",
     "text": [
      "8575894.8343\n",
      "748383.8343\n",
      "748383.8343\n",
      "12.34\n",
      "8575894.8343\n",
      "23.34\n",
      "4.34\n",
      "5.34\n",
      "567.54\n",
      "23.54\n",
      "45.545\n",
      "67.343\n",
      "78.545\n",
      "78.53\n",
      "12.2\n",
      "234.234\n",
      "234.234\n",
      "748383.8343\n",
      "El elemento 8575894.8343 ha sido agregado de forma Correcta!!\n"
     ]
    }
   ],
   "source": [
    "agregarElementoPorPosicion(8575894.8343, 4, array01)"
   ]
  },
  {
   "cell_type": "code",
   "execution_count": null,
   "id": "d64c9b32",
   "metadata": {},
   "outputs": [],
   "source": []
  }
 ],
 "metadata": {
  "kernelspec": {
   "display_name": "Python 3",
   "language": "python",
   "name": "python3"
  },
  "language_info": {
   "codemirror_mode": {
    "name": "ipython",
    "version": 3
   },
   "file_extension": ".py",
   "mimetype": "text/x-python",
   "name": "python",
   "nbconvert_exporter": "python",
   "pygments_lexer": "ipython3",
   "version": "3.8.3"
  }
 },
 "nbformat": 4,
 "nbformat_minor": 5
}
