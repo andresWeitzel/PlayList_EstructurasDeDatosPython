{
 "cells": [
  {
   "cell_type": "code",
   "execution_count": 7,
   "id": "fd7ddf82",
   "metadata": {},
   "outputs": [
    {
     "name": "stdout",
     "output_type": "stream",
     "text": [
      "El elemento Existe dentro del array\n"
     ]
    }
   ],
   "source": [
    "'''\n",
    "Realizar un programa que se encarge de comprobar si el elemento deseado se encuentra o no \n",
    "dentro del array.\n",
    "Eficientizar el programa mediante una funcion\n",
    "'''\n",
    "\n",
    "import array as array\n",
    "\n",
    "\n",
    "array01 = array.array('i', [12,23,4,5,567,23,45,67,78,78,12,23,4,5,567,23,45,67,78,78])\n",
    "\n",
    "\n",
    "elementoDeseado=23\n",
    "    \n",
    "if elementoDeseado in array01:\n",
    "    print(\"El elemento Existe dentro del array\")\n",
    "else:\n",
    "    print(\"El elemento NO Existe dentro del array\")"
   ]
  },
  {
   "cell_type": "code",
   "execution_count": null,
   "id": "dc03f84a",
   "metadata": {},
   "outputs": [],
   "source": []
  },
  {
   "cell_type": "code",
   "execution_count": 10,
   "id": "511f237f",
   "metadata": {},
   "outputs": [],
   "source": [
    "\n",
    "array01 = array.array('i', [12,23,4,5,567,23,45,67,78,78,12,23,4,5,567,23,45,67,78,78])\n",
    "\n",
    "def comprobarElemento(inputElementoDeseado):\n",
    "\n",
    "    elementoDeseado=inputElementoDeseado\n",
    "\n",
    "    if elementoDeseado in array01:\n",
    "        print(\"El elemento Existe dentro del array\")\n",
    "    else:\n",
    "        print(\"El elemento NO Existe dentro del array\")"
   ]
  },
  {
   "cell_type": "code",
   "execution_count": 13,
   "id": "49ca9ccf",
   "metadata": {},
   "outputs": [
    {
     "name": "stdout",
     "output_type": "stream",
     "text": [
      "El elemento NO Existe dentro del array\n"
     ]
    }
   ],
   "source": [
    "comprobarElemento(94795794545)"
   ]
  },
  {
   "cell_type": "code",
   "execution_count": null,
   "id": "50dc5c53",
   "metadata": {},
   "outputs": [],
   "source": []
  }
 ],
 "metadata": {
  "kernelspec": {
   "display_name": "Python 3",
   "language": "python",
   "name": "python3"
  },
  "language_info": {
   "codemirror_mode": {
    "name": "ipython",
    "version": 3
   },
   "file_extension": ".py",
   "mimetype": "text/x-python",
   "name": "python",
   "nbconvert_exporter": "python",
   "pygments_lexer": "ipython3",
   "version": "3.8.3"
  }
 },
 "nbformat": 4,
 "nbformat_minor": 5
}
