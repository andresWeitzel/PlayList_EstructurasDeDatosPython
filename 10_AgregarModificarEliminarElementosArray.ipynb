{
 "cells": [
  {
   "cell_type": "code",
   "execution_count": null,
   "id": "05c5f592",
   "metadata": {},
   "outputs": [],
   "source": [
    "'''\n",
    "Crear una funcion sin parametros, en el cual podamos Eliminar, Añadir o Modificar\n",
    "un elemento de un array, por su valor, no por su indice, salvo modificar\n",
    "Trabajar con Inputs\n",
    "'''\n",
    "\n",
    "import array as array\n",
    "\n",
    "\n",
    "array01 = array.array('d', [12.34,23.34,4.34,5.34,567.54,23.54,45.545,67.343,78.545,78.53,12.2])\n",
    "\n",
    "array01"
   ]
  },
  {
   "cell_type": "code",
   "execution_count": null,
   "id": "7c0e5bb2",
   "metadata": {},
   "outputs": [],
   "source": [
    "\n",
    "\n",
    "def accionArray():\n",
    "    \n",
    "    inputTipoAccion=input(\"Ingrese la Acción Deseada(agregar, modificar, eliminar):\")\n",
    "    inputElemento=float(input(\"Ingrese el elemento deseado:\"))\n",
    "    inputArray=input(\"Ingrese el Array:\")\n",
    "    #Como no podemos declarar un input array, comparamos\n",
    "    if inputArray == 'array01':\n",
    "        inputArray=array01\n",
    "    \n",
    "    \n",
    "    if inputTipoAccion == 'agregar':\n",
    "        \n",
    "        inputArray.append(inputElemento)\n",
    "    \n",
    "        for i in range(len(inputArray)):\n",
    "\n",
    "            print(inputArray[i])\n",
    "\n",
    "\n",
    "        print(\"El elemento\",inputElemento,\"ha sido agregado de forma Correcta!!\")\n",
    "        \n",
    "        \n",
    "        \n",
    "    if inputTipoAccion == 'modificar':\n",
    "        \n",
    "        inputIndiceElemento=int(input(\"Ingrese el Indice que tendra el nuevo elemento:\"))\n",
    "        \n",
    "        inputArray[inputIndiceElemento] = inputElemento\n",
    "    \n",
    "        for i in range(len(inputArray)):\n",
    "            print(inputArray[i])\n",
    "\n",
    "        print(\"\\n--------------------------\")\n",
    "\n",
    "        print(\"El Nuevo elemento modificado es\"\n",
    "              ,inputElemento\n",
    "              ,\"y se ha insertado en la posicion\"\n",
    "              ,inputIndiceElemento\n",
    "              ,\" del Array.\")  \n",
    "\n",
    "        print(\"Este elemento se repite\"\n",
    "              ,inputArray.count(inputElemento)\n",
    "              ,\"vez/veces dentro del Array\")\n",
    "\n",
    "        print(\"\\n--------------------------\")\n",
    "        \n",
    "        \n",
    "    if inputTipoAccion == 'eliminar':\n",
    "        \n",
    "        inputArray.remove(inputElemento)\n",
    "\n",
    "        for i in range(len(inputArray)):\n",
    "            print(inputArray[i])\n",
    "\n",
    "        print(\"\\n--------------------------\")\n",
    "\n",
    "        print(\"El Elemento Eliminado fue el\"\n",
    "              ,inputElemento)  \n",
    "\n",
    "        print(\"\\n--------------------------\")\n",
    "        \n",
    "    if inputTipoAccion or inputElemento or inputArray is '':\n",
    "        print(\"asdads\")"
   ]
  },
  {
   "cell_type": "code",
   "execution_count": null,
   "id": "69ecff91",
   "metadata": {},
   "outputs": [],
   "source": [
    "accionArray()"
   ]
  },
  {
   "cell_type": "code",
   "execution_count": null,
   "id": "9ad534fb",
   "metadata": {},
   "outputs": [],
   "source": []
  },
  {
   "cell_type": "code",
   "execution_count": null,
   "id": "137937d8",
   "metadata": {},
   "outputs": [],
   "source": []
  }
 ],
 "metadata": {
  "kernelspec": {
   "display_name": "Python 3",
   "language": "python",
   "name": "python3"
  },
  "language_info": {
   "codemirror_mode": {
    "name": "ipython",
    "version": 3
   },
   "file_extension": ".py",
   "mimetype": "text/x-python",
   "name": "python",
   "nbconvert_exporter": "python",
   "pygments_lexer": "ipython3",
   "version": "3.8.3"
  }
 },
 "nbformat": 4,
 "nbformat_minor": 5
}
