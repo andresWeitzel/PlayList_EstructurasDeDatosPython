{
 "cells": [
  {
   "cell_type": "code",
   "execution_count": 29,
   "id": "fcb0ef6e",
   "metadata": {},
   "outputs": [
    {
     "name": "stdout",
     "output_type": "stream",
     "text": [
      "67\n",
      "78\n",
      "\n",
      "\n",
      "12\n",
      "23\n",
      "4\n",
      "5\n",
      "567\n",
      "23\n",
      "45\n",
      "67\n",
      "78\n",
      "78\n"
     ]
    },
    {
     "data": {
      "text/plain": [
       "0"
      ]
     },
     "execution_count": 29,
     "metadata": {},
     "output_type": "execute_result"
    }
   ],
   "source": [
    "'''\n",
    "Crear 2 arrays, uno de enteros y otro de decimales, la longitud debe ser de 10 y se debe acceder\n",
    "a indices a gusto\n",
    "'''\n",
    "import array as array\n",
    "\n",
    "\n",
    "array01 = array.array('i', [12,23,4,5,567,23,45,67,78,78])\n",
    "\n",
    "for i in range(7,8):\n",
    "    print(array01[i])\n",
    "\n",
    "for i in range(8,9):\n",
    "    print(array01[i])\n",
    "\n",
    "print(\"\\n\")\n",
    "\n",
    "for i in range(len(array01)):\n",
    "    print(array01[i])\n",
    "       \n",
    " "
   ]
  },
  {
   "cell_type": "code",
   "execution_count": 25,
   "id": "bc13ba4e",
   "metadata": {},
   "outputs": [
    {
     "name": "stdout",
     "output_type": "stream",
     "text": [
      "567.23\n",
      "45.21\n",
      "\n",
      "\n",
      "12.56\n",
      "23.87\n",
      "4.56\n",
      "5.34\n",
      "567.23\n",
      "23.23\n",
      "45.21\n",
      "67.222\n",
      "78.23\n",
      "78.333\n"
     ]
    }
   ],
   "source": [
    "array02 = array.array('d', [12.56,23.87,4.56,5.34,567.23,23.23,45.21,67.222,78.23,78.333])\n",
    "\n",
    "for i in range(4,5):\n",
    "    print(array02[i])\n",
    "    \n",
    "\n",
    "for i in range(6,7):\n",
    "    print(array02[i])    \n",
    "    \n",
    "    \n",
    "print(\"\\n\")\n",
    "\n",
    "for i in range(len(array02)):\n",
    "    print(array02[i])\n",
    "           "
   ]
  },
  {
   "cell_type": "code",
   "execution_count": null,
   "id": "91dcacd4",
   "metadata": {},
   "outputs": [],
   "source": []
  }
 ],
 "metadata": {
  "kernelspec": {
   "display_name": "Python 3",
   "language": "python",
   "name": "python3"
  },
  "language_info": {
   "codemirror_mode": {
    "name": "ipython",
    "version": 3
   },
   "file_extension": ".py",
   "mimetype": "text/x-python",
   "name": "python",
   "nbconvert_exporter": "python",
   "pygments_lexer": "ipython3",
   "version": "3.8.3"
  }
 },
 "nbformat": 4,
 "nbformat_minor": 5
}
