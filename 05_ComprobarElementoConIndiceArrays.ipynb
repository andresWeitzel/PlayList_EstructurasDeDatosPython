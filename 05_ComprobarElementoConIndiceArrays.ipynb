{
 "cells": [
  {
   "cell_type": "code",
   "execution_count": 13,
   "id": "5db9c7fa",
   "metadata": {},
   "outputs": [],
   "source": [
    "'''\n",
    "Crear una funcion que compruebe la existencia de el elemento deseado \n",
    "dentro del array e indicar el indice de dicho elemento dentro del array.\n",
    "'''\n",
    "\n",
    "import array as array\n",
    "\n",
    "\n",
    "array01 = array.array('d', [12.34,23.34,4.34,5.34,567.54,23.54,45.545,67.343,78.545,78.53,12.2])\n",
    "\n",
    "\n",
    "def comprobarElemento(inputElementoDeseado):\n",
    "\n",
    "    elementoDeseado=inputElementoDeseado\n",
    "\n",
    "    if elementoDeseado in array01:\n",
    "        \n",
    "        print(\"El elemento\",elementoDeseado,\"Existe dentro del array\")\n",
    "        \n",
    "        print(\"El Indice del elemento\"\n",
    "              ,elementoDeseado\n",
    "              ,\"dentro del array es\"\n",
    "              ,array01.index(elementoDeseado))\n",
    "    else:\n",
    "        print(\"El elemento\",elementoDeseado,\"NO Existe dentro del array\")\n",
    "        \n",
    "        "
   ]
  },
  {
   "cell_type": "code",
   "execution_count": 14,
   "id": "02e7dbda",
   "metadata": {},
   "outputs": [
    {
     "name": "stdout",
     "output_type": "stream",
     "text": [
      "El elemento 8007.54 NO Existe dentro del array\n"
     ]
    }
   ],
   "source": [
    "comprobarElemento(8007.54)"
   ]
  },
  {
   "cell_type": "code",
   "execution_count": null,
   "id": "398e8c7d",
   "metadata": {},
   "outputs": [],
   "source": []
  }
 ],
 "metadata": {
  "kernelspec": {
   "display_name": "Python 3",
   "language": "python",
   "name": "python3"
  },
  "language_info": {
   "codemirror_mode": {
    "name": "ipython",
    "version": 3
   },
   "file_extension": ".py",
   "mimetype": "text/x-python",
   "name": "python",
   "nbconvert_exporter": "python",
   "pygments_lexer": "ipython3",
   "version": "3.8.3"
  }
 },
 "nbformat": 4,
 "nbformat_minor": 5
}
