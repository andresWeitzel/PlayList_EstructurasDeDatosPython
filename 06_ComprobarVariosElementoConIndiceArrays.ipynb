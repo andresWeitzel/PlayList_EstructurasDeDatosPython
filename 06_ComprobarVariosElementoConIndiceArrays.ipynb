{
 "cells": [
  {
   "cell_type": "code",
   "execution_count": 6,
   "id": "f459561e",
   "metadata": {},
   "outputs": [],
   "source": [
    "'''\n",
    "Crear una funcion que compruebe la existencia de 2 elementos deseados \n",
    "en el array e indicar los indices de dichos elementos dentro del array.\n",
    "'''\n",
    "\n",
    "import array as array\n",
    "\n",
    "\n",
    "array01 = array.array('d', [12.34,23.34,4.34,5.34,567.54,23.54,45.545,67.343,78.545,78.53,12.2])\n",
    "\n",
    "\n",
    "\n",
    "\n",
    "\n",
    "def comprobarElementos(inputElementoDeseado01,inputElementoDeseado02):\n",
    "\n",
    "    elementoDeseado01=inputElementoDeseado01\n",
    "    elementoDeseado02=inputElementoDeseado02\n",
    "\n",
    "        \n",
    "    if elementoDeseado01 in array01:\n",
    "        \n",
    "        print(\"El elemento\",elementoDeseado01,\"Existe dentro del array\")\n",
    "        \n",
    "        print(\"El Indice del elemento\"\n",
    "              ,elementoDeseado01\n",
    "              ,\"dentro del array es\"\n",
    "              ,array01.index(elementoDeseado01))\n",
    "    else:\n",
    "        print(\"El elemento\",elementoDeseado01,\"NO Existe dentro del array\")\n",
    "        \n",
    "     \n",
    "    print(\"\\n---------------------------------------------------------------------\")\n",
    "        \n",
    "        \n",
    "    if elementoDeseado02 in array01:\n",
    "        \n",
    "        print(\"El elemento\",elementoDeseado02,\"Existe dentro del array\")\n",
    "        \n",
    "        print(\"El Indice del elemento\"\n",
    "              ,elementoDeseado02\n",
    "              ,\"dentro del array es\"\n",
    "              ,array01.index(elementoDeseado02))\n",
    "    else:\n",
    "        print(\"El elemento\",elementoDeseado02,\"NO Existe dentro del array\")\n",
    "        \n",
    "        "
   ]
  },
  {
   "cell_type": "code",
   "execution_count": 9,
   "id": "281a2a94",
   "metadata": {},
   "outputs": [
    {
     "name": "stdout",
     "output_type": "stream",
     "text": [
      "El elemento 12.34 Existe dentro del array\n",
      "El Indice del elemento 12.34 dentro del array es 0\n",
      "\n",
      "---------------------------------------------------------------------\n",
      "El elemento 67.343 Existe dentro del array\n",
      "El Indice del elemento 67.343 dentro del array es 7\n"
     ]
    }
   ],
   "source": [
    "comprobarElementos(12.34, 67.343)"
   ]
  },
  {
   "cell_type": "code",
   "execution_count": null,
   "id": "71285605",
   "metadata": {},
   "outputs": [],
   "source": []
  }
 ],
 "metadata": {
  "kernelspec": {
   "display_name": "Python 3",
   "language": "python",
   "name": "python3"
  },
  "language_info": {
   "codemirror_mode": {
    "name": "ipython",
    "version": 3
   },
   "file_extension": ".py",
   "mimetype": "text/x-python",
   "name": "python",
   "nbconvert_exporter": "python",
   "pygments_lexer": "ipython3",
   "version": "3.8.3"
  }
 },
 "nbformat": 4,
 "nbformat_minor": 5
}
