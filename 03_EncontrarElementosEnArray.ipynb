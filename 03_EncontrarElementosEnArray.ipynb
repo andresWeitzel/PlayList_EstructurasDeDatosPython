{
 "cells": [
  {
   "cell_type": "code",
   "execution_count": 6,
   "id": "25ffb11f",
   "metadata": {},
   "outputs": [
    {
     "name": "stdout",
     "output_type": "stream",
     "text": [
      "12\n",
      "23\n",
      "4\n",
      "5\n",
      "567\n",
      "23\n",
      "45\n",
      "67\n",
      "78\n",
      "78\n",
      "12\n",
      "23\n",
      "4\n",
      "5\n",
      "567\n",
      "23\n",
      "45\n",
      "67\n",
      "78\n",
      "78\n"
     ]
    }
   ],
   "source": [
    "'''\n",
    "Crear un array unidimensional de valores enteros con longitud 20, encontrar elementos a gusto\n",
    "dentro del array y mejorar el recorrido de sus indices\n",
    "'''\n",
    "\n",
    "import array as array\n",
    "\n",
    "\n",
    "array01 = array.array('i', [12,23,4,5,567,23,45,67,78,78,12,23,4,5,567,23,45,67,78,78])\n",
    "\n",
    "for i in range(len(array01)):\n",
    "    print(array01[i])\n"
   ]
  },
  {
   "cell_type": "code",
   "execution_count": 9,
   "id": "776a5b40",
   "metadata": {},
   "outputs": [
    {
     "data": {
      "text/plain": [
       "12"
      ]
     },
     "execution_count": 9,
     "metadata": {},
     "output_type": "execute_result"
    }
   ],
   "source": [
    "array01[0]\n"
   ]
  },
  {
   "cell_type": "code",
   "execution_count": 14,
   "id": "d33c6e4f",
   "metadata": {},
   "outputs": [
    {
     "data": {
      "text/plain": [
       "23"
      ]
     },
     "execution_count": 14,
     "metadata": {},
     "output_type": "execute_result"
    }
   ],
   "source": [
    "\n",
    "array01[5]"
   ]
  },
  {
   "cell_type": "code",
   "execution_count": 13,
   "id": "2f7accf5",
   "metadata": {},
   "outputs": [
    {
     "data": {
      "text/plain": [
       "4"
      ]
     },
     "execution_count": 13,
     "metadata": {},
     "output_type": "execute_result"
    }
   ],
   "source": [
    "array01.index(567)"
   ]
  },
  {
   "cell_type": "code",
   "execution_count": null,
   "id": "748250a3",
   "metadata": {},
   "outputs": [],
   "source": []
  }
 ],
 "metadata": {
  "kernelspec": {
   "display_name": "Python 3",
   "language": "python",
   "name": "python3"
  },
  "language_info": {
   "codemirror_mode": {
    "name": "ipython",
    "version": 3
   },
   "file_extension": ".py",
   "mimetype": "text/x-python",
   "name": "python",
   "nbconvert_exporter": "python",
   "pygments_lexer": "ipython3",
   "version": "3.8.3"
  }
 },
 "nbformat": 4,
 "nbformat_minor": 5
}
