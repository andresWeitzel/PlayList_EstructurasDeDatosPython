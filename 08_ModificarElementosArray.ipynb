{
 "cells": [
  {
   "cell_type": "code",
   "execution_count": 1,
   "id": "6729a64f",
   "metadata": {},
   "outputs": [
    {
     "data": {
      "text/plain": [
       "array('d', [12.34, 23.34, 4.34, 5.34, 567.54, 23.54, 45.545, 67.343, 78.545, 78.53, 12.2])"
      ]
     },
     "execution_count": 1,
     "metadata": {},
     "output_type": "execute_result"
    }
   ],
   "source": [
    "'''\n",
    "Crear una funcion que modifique el valor de algun elemento deseado por posicion de un array\n",
    "y obtener el numero de veces que se repite ese elemento modificado dentro del array junto\n",
    "con un mensaje de Referencia\n",
    "'''\n",
    "\n",
    "\n",
    "import array as array\n",
    "\n",
    "\n",
    "array01 = array.array('d', [12.34,23.34,4.34,5.34,567.54,23.54,45.545,67.343,78.545,78.53,12.2])\n",
    "\n",
    "array01"
   ]
  },
  {
   "cell_type": "code",
   "execution_count": 10,
   "id": "63df7bb3",
   "metadata": {},
   "outputs": [],
   "source": [
    "def modificarElemento(inputNuevoElemento, inputIndiceElemento, inputArray):\n",
    "    \n",
    "    inputArray[inputIndiceElemento] = inputNuevoElemento\n",
    "    \n",
    "    for i in range(len(inputArray)):\n",
    "        print(inputArray[i])\n",
    "    \n",
    "    print(\"\\n--------------------------\")\n",
    "    \n",
    "    print(\"El Nuevo elemento modificado es\"\n",
    "          ,inputNuevoElemento\n",
    "          ,\"y se ha insertado en la posicion\"\n",
    "          ,inputIndiceElemento\n",
    "          ,\" del Array.\")  \n",
    "    \n",
    "    print(\"Este elemento se repite\"\n",
    "          ,inputArray.count(inputNuevoElemento)\n",
    "          ,\"vez/veces dentro del Array\")\n",
    "    \n",
    "    print(\"\\n--------------------------\")"
   ]
  },
  {
   "cell_type": "code",
   "execution_count": 12,
   "id": "c7964e16",
   "metadata": {},
   "outputs": [
    {
     "name": "stdout",
     "output_type": "stream",
     "text": [
      "444444.44\n",
      "444444.44\n",
      "4.34\n",
      "5.34\n",
      "567.54\n",
      "23.54\n",
      "45.545\n",
      "67.343\n",
      "78.545\n",
      "78.53\n",
      "12.2\n",
      "\n",
      "--------------------------\n",
      "El Nuevo elemento modificado es 444444.44 y se ha insertado en la posicion 1  del Array.\n",
      "Este elemento se repite 2 vez/veces dentro del Array\n",
      "\n",
      "--------------------------\n"
     ]
    }
   ],
   "source": [
    "modificarElemento(444444.44, 1, array01)"
   ]
  },
  {
   "cell_type": "code",
   "execution_count": null,
   "id": "461e5465",
   "metadata": {},
   "outputs": [],
   "source": []
  }
 ],
 "metadata": {
  "kernelspec": {
   "display_name": "Python 3",
   "language": "python",
   "name": "python3"
  },
  "language_info": {
   "codemirror_mode": {
    "name": "ipython",
    "version": 3
   },
   "file_extension": ".py",
   "mimetype": "text/x-python",
   "name": "python",
   "nbconvert_exporter": "python",
   "pygments_lexer": "ipython3",
   "version": "3.8.3"
  }
 },
 "nbformat": 4,
 "nbformat_minor": 5
}
