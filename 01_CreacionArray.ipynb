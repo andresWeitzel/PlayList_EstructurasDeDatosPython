{
 "cells": [
  {
   "cell_type": "code",
   "execution_count": 6,
   "id": "d25d4d07",
   "metadata": {},
   "outputs": [],
   "source": [
    "'''\n",
    "Crear un array unidimensional que poseea numeros enteros\n",
    "'''\n",
    "import array as array"
   ]
  },
  {
   "cell_type": "code",
   "execution_count": 16,
   "id": "b09c74fe",
   "metadata": {},
   "outputs": [
    {
     "name": "stdout",
     "output_type": "stream",
     "text": [
      "12\n"
     ]
    }
   ],
   "source": [
    "#array01 = array(tipo_dato, valor_dato)\n",
    "array01 = array.array('i', [12])\n",
    "\n",
    "for i in range(0,1):\n",
    "    print(array01[i])"
   ]
  },
  {
   "cell_type": "code",
   "execution_count": 17,
   "id": "c72dd548",
   "metadata": {},
   "outputs": [
    {
     "name": "stdout",
     "output_type": "stream",
     "text": [
      "12.9\n",
      "3.45\n",
      "8.67\n",
      "4.9\n"
     ]
    }
   ],
   "source": [
    "array02 = array.array('d', [12.9 , 3.45, 8.67, 4.90])\n",
    "\n",
    "for i in range(len(array02)):\n",
    "    print(array02[i])"
   ]
  },
  {
   "cell_type": "code",
   "execution_count": null,
   "id": "de1a2f03",
   "metadata": {},
   "outputs": [],
   "source": []
  }
 ],
 "metadata": {
  "kernelspec": {
   "display_name": "Python 3",
   "language": "python",
   "name": "python3"
  },
  "language_info": {
   "codemirror_mode": {
    "name": "ipython",
    "version": 3
   },
   "file_extension": ".py",
   "mimetype": "text/x-python",
   "name": "python",
   "nbconvert_exporter": "python",
   "pygments_lexer": "ipython3",
   "version": "3.8.3"
  }
 },
 "nbformat": 4,
 "nbformat_minor": 5
}
